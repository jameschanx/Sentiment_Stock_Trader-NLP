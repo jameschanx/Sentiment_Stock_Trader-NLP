{
 "cells": [
  {
   "cell_type": "code",
   "execution_count": 23,
   "metadata": {
    "collapsed": true
   },
   "outputs": [],
   "source": [
    "#author: James Chan © 2018\n",
    "import requests\n",
    "import numpy as np\n",
    "import pandas as pd\n",
    "import matplotlib.pyplot as plt\n",
    "import seaborn as sb\n",
    "import st_utils as ut\n",
    "import datetime as dt\n",
    "import nltk\n",
    "%matplotlib inline"
   ]
  },
  {
   "cell_type": "code",
   "execution_count": 15,
   "metadata": {},
   "outputs": [],
   "source": [
    "#We are concerned about tech sentiment, QQQ will be our stock (ETF) of interest.\n",
    "start_date = '2017-01-01'\n",
    "end_date = '2018-12-31'\n",
    "dates = pd.date_range(start_date, end_date)\n",
    "df = ut.get_data('QQQ.csv', dates) \n"
   ]
  },
  {
   "cell_type": "code",
   "execution_count": 16,
   "metadata": {},
   "outputs": [],
   "source": [
    "'''\n",
    "Assumptions:\n",
    "1. We assume we enter buy order at market close, hence using adjusted close. \n",
    "2. The news \n",
    "'''\n",
    "df = df.dropna()\n",
    "df['Daily Return'] = df['Adj Close'].pct_change()"
   ]
  },
  {
   "cell_type": "code",
   "execution_count": 21,
   "metadata": {
    "collapsed": true
   },
   "outputs": [],
   "source": [
    "#using FAANG not only because it's a cool buzzword, but they are also the tech market drivers\n",
    "companies = ['twitter','amd','tesla']\n",
    "companies = ['tesla']\n",
    "news_source = 'wsj.com'\n",
    "apikey = '23e7e5c41b6443f1bb556ec312275aff'\n",
    "query_urls = []\n",
    "for company in companies:\n",
    "    url = 'https://newsapi.org/v2/everything?q={}&from={}&to={}&domains={}&apiKey={}'\\\n",
    "            .format(company, start_date, end_date, news_source, apikey)\n",
    "    query_urls.append(url)\n",
    "\n",
    "#data provided by https://newsapi.org <----these guys are awesome :-)!\n",
    "for url in query_urls:\n",
    "    response = requests.get(url)\n",
    "    news = response.json()"
   ]
  },
  {
   "cell_type": "code",
   "execution_count": 22,
   "metadata": {},
   "outputs": [
    {
     "name": "stdout",
     "output_type": "stream",
     "text": [
      "Elon Musk is asking for donations to save Tesla. The Wall Street Journal reported Sunday that Tesla has asked some suppliers to refund a portion of what Tesla has paid them. Tesla shareholders, usually not the type to worry, sent the shares down 5% in early t…\n",
      "2018-07-24T07:48:09Z\n",
      "\n",
      "In the Sunshine State, the left loves unions even more than electric cars.\n",
      "2017-09-17T19:42:48Z\n",
      "\n",
      "Tesla, Investigators Feud Over a Crash An unusual public feud between Tesla Inc. and federal accident investigators escalated Thursday over the examination of a fatal car crash, sidelining the auto maker from an official probe concerning its semiautonomous dr…\n",
      "2018-04-12T23:46:44Z\n",
      "\n",
      "Wall Street Journal Tesla Halts Model 3 Production Again Wall Street Journal Tesla Inc. TSLA -3.04% has again halted production of the Model 3 sedan, days after Chief Executive Elon Musk said the auto maker's pace of making 2,000 of the sedans a week is susta…\n",
      "2018-04-17T01:22:12Z\n",
      "\n",
      "Wall Street Journal Tesla Recalls 123000 Model S Cars Over Bolt Issue Wall Street Journal Attendees at the Bucharest Auto Show in Bucharest, Romania, studied a privately owned Tesla Inc. Model S electric vehicle on display in October 2016. On Thursday, the au…\n",
      "2018-03-29T22:12:34Z\n",
      "\n",
      "Big Test for Tesla as Officials Step Away Tesla Inc. will be without two important executives just as the electric-car maker struggles to boost production of its first mass-market vehicle and faces doubts about its ability to raise cash. Big Test for Tesla as…\n",
      "2018-05-14T00:30:00Z\n",
      "\n",
      "The real problem is that governments everywhere have ordained that electric cars will be sold at a loss.\n",
      "2018-06-22T22:35:55Z\n",
      "\n",
      "Tesla moved the goal posts again for its Model 3 and revealed a slowdown in its older luxury models, making Chief Executive Elon Musk’s goals appear even less realistic.\n",
      "2017-11-01T21:32:06Z\n",
      "\n",
      "Tesla Inc. is expected to release third-quarter financial results after the market closes on Wednesday. Here’s what you need to know.\n",
      "2017-11-01T10:00:03Z\n",
      "\n",
      "The electric car company舗s inability to predict near-term Model 3 production should give investors pause about Elon Musk舗s vision.\n",
      "2017-10-03T14:19:28Z\n",
      "\n",
      "Tesla has huge growth plans and a heavy balance sheet. Those conflicting realities mean the company, and investors, should be closely watching its capital needs.\n",
      "2017-11-03T17:54:54Z\n",
      "\n",
      "Elon Musk needs more focus as he grapples with Model 3 production issues.\n",
      "2017-11-17T18:36:31Z\n",
      "\n",
      "The 10-year compensation plan ultimately aims for Tesla market cap of $650 billion.\n",
      "2018-01-23T13:50:08Z\n",
      "\n",
      "Tesla Faces Crunch As Cash Hoard Thins SAN FRANCISCO—Tesla Inc. is entering one of the most critical phases in its history, a make-or-break period in which the electric-car maker must boost production of its new Model 3 or possibly face severe financial conse…\n",
      "2018-03-16T00:23:31Z\n",
      "\n",
      "Tesla is expected to release financial results after the market closes Wednesday. Investors are likely to focus on the car-maker’s growth strategy and spending plans.\n",
      "2018-02-07T10:30:04Z\n",
      "\n",
      "Wall Street Journal Tesla to Build Auto Factory in Shanghai Wall Street Journal SHANGHAI— Tesla Inc. TSLA 2.04% will build a factory in Shanghai, the city government announced on Tuesday, a move expected to boost sales in the world's largest auto market but o…\n",
      "2018-07-10T13:55:45Z\n",
      "\n",
      "Among the companies with shares expected to trade actively in Thursday’s session are Tesla Inc., Advanced Micro Devices Inc., Macy’s Inc., Walgreens Boots Alliance Inc., Rite Aid Corp. and CVS Health Corp.. Tesla shares fell 2.4% premarket after the auto make…\n",
      "2018-01-04T14:23:37Z\n",
      "\n",
      "But there's a catch.\n",
      "2018-04-02T15:46:51Z\n",
      "\n",
      "Tesla doesn’t seem to be getting closer to profitability, even after record fourth-quarter deliveries.\n",
      "2018-02-07T23:12:59Z\n",
      "\n",
      "An enormous Tesla-built battery system—storing electricity from a new wind farm and capable of supplying 30,000 homes—will be powered up over the coming days, beating the money-back deadline set by CEO Elon Musk.\n",
      "2017-11-23T13:16:26Z\n",
      "\n"
     ]
    }
   ],
   "source": [
    "# pandas = \n",
    "#data preprocess:\n",
    "#1. use description only, remove entries that don't actually have the company name mentioned in the description\n",
    "#2. need to offset time by -4 hours to get ET time.  e.g., 1:00pm ET (summer) is shown as 17:00.\n",
    "#3. bin the time to market open and market close per day.\n",
    "for article in news['articles']:\n",
    "    print(article['description'])\n",
    "    print(article['publishedAt'])\n",
    "    print()\n",
    "    "
   ]
  },
  {
   "cell_type": "code",
   "execution_count": 39,
   "metadata": {},
   "outputs": [],
   "source": [
    "df = df.dropna()\n"
   ]
  },
  {
   "cell_type": "code",
   "execution_count": null,
   "metadata": {
    "collapsed": true
   },
   "outputs": [],
   "source": []
  }
 ],
 "metadata": {
  "kernelspec": {
   "display_name": "Python 3",
   "language": "python",
   "name": "python3"
  },
  "language_info": {
   "codemirror_mode": {
    "name": "ipython",
    "version": 3
   },
   "file_extension": ".py",
   "mimetype": "text/x-python",
   "name": "python",
   "nbconvert_exporter": "python",
   "pygments_lexer": "ipython3",
   "version": "3.6.6"
  }
 },
 "nbformat": 4,
 "nbformat_minor": 2
}

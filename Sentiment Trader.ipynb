{
 "cells": [
  {
   "cell_type": "markdown",
   "metadata": {},
   "source": [
    "# Sentiment Trader\n",
    "James Chan 2018\n",
    "\n",
    "### Overview\n",
    "A popular approach traders take to beat the stock market is by analyzing the market sentiment.  This is common done by analzying stock market news pertaining to a particular stock, a certain the sector, or even the world economy as a whole.  \n",
    "\n",
    "##### Examples\n",
    "* News headlined \"Elon Musk pushed off Model 3 production once again!!!\" could mean a sell/short opportunity for Tesla.\n",
    "* News headlined \"Pfizer found definitive cure for cancer!\" could mean a long opporutnity for Pfizer, for the pharmaceutical sector, or even the world economy altogether.\n",
    "\n",
    "### Machine Learning and NLP\n",
    "Machine Learning is rapidly gaining grounds in quantitative finance due to its phenomonenal performance in forecasting, optimization, and decision-making. By combining the predictive power of machine learning with the processing of textual data in news, a intelligent agent may be devised which can translate news into trades with remarkable performance.\n",
    "\n",
    "In this exercise we employ the following steps to construct a sentiment trader agent to trade Tesla.  More details of these steps are discussed later.\n",
    "1. Acquire historical news and stock market performance of Tesla from the web\n",
    "2. Clean the news and translate text into one hot vectors using NLP techniques\n",
    "3. Train a logistics regression classifer using the return of next day as label\n",
    "4. Assess the performance of the trader in-sample and out-of-sample"
   ]
  },
  {
   "cell_type": "code",
   "execution_count": 1,
   "metadata": {},
   "outputs": [
    {
     "name": "stderr",
     "output_type": "stream",
     "text": [
      "Using TensorFlow backend.\n"
     ]
    }
   ],
   "source": [
    "'''\n",
    "Sentiment Trader\n",
    "James Chan 2018\n",
    "'''\n",
    "import requests\n",
    "import numpy as np\n",
    "import pandas as pd\n",
    "import matplotlib.pyplot as plt\n",
    "import st_utils as sut\n",
    "import trader_utils as tut\n",
    "import string\n",
    "\n",
    "from scipy.stats import mode\n",
    "\n",
    "from nltk import word_tokenize\n",
    "from nltk.corpus import stopwords\n",
    "from nltk.stem import WordNetLemmatizer, PorterStemmer\n",
    "\n",
    "from dateutil import parser\n",
    "from datetime import timedelta, date\n",
    "\n",
    "from keras.models import Sequential\n",
    "from keras.layers import Dense\n",
    "from keras import optimizers\n",
    "\n",
    "from sklearn.model_selection import train_test_split\n",
    "\n",
    "%matplotlib inline"
   ]
  },
  {
   "cell_type": "code",
   "execution_count": 2,
   "metadata": {
    "collapsed": true
   },
   "outputs": [],
   "source": [
    "# initialize date range of interest.  Longer would be even better, but I would need to sign up for a paid plan at newsapi.org\n",
    "start_date = '2018-01-01'\n",
    "end_date = '2018-8-31'"
   ]
  },
  {
   "cell_type": "code",
   "execution_count": 114,
   "metadata": {},
   "outputs": [
    {
     "name": "stdout",
     "output_type": "stream",
     "text": [
      "{'status': 'ok', 'totalResults': 1917, 'articles': []}\n",
      "total number of articles  1917\n",
      "downloading page:  1\n",
      "downloading page:  2\n",
      "downloading page:  3\n",
      "downloading page:  4\n",
      "downloading page:  5\n",
      "downloading page:  6\n",
      "downloading page:  7\n",
      "downloading page:  8\n",
      "downloading page:  9\n",
      "downloading page:  10\n",
      "downloading page:  11\n",
      "downloading page:  12\n",
      "downloading page:  13\n",
      "downloading page:  14\n",
      "downloading page:  15\n",
      "downloading page:  16\n",
      "downloading page:  17\n",
      "downloading page:  18\n",
      "downloading page:  19\n",
      "downloading page:  20\n",
      "download complete\n"
     ]
    }
   ],
   "source": [
    "# download news by querying newsapi.org\n",
    "keywords = ['tesla'] #use tesla as keyword\n",
    "news_source = 'wsj.com, bloomberg.com, cnbc.com' #use these 3 news outlet , more will be even better\n",
    "df = sut.get_news(keywords, start_date, end_date, news_source)\n",
    "df.to_csv('news_dataset.csv')"
   ]
  },
  {
   "cell_type": "code",
   "execution_count": 115,
   "metadata": {},
   "outputs": [
    {
     "data": {
      "text/html": [
       "<div>\n",
       "<style>\n",
       "    .dataframe thead tr:only-child th {\n",
       "        text-align: right;\n",
       "    }\n",
       "\n",
       "    .dataframe thead th {\n",
       "        text-align: left;\n",
       "    }\n",
       "\n",
       "    .dataframe tbody tr th {\n",
       "        vertical-align: top;\n",
       "    }\n",
       "</style>\n",
       "<table border=\"1\" class=\"dataframe\">\n",
       "  <thead>\n",
       "    <tr style=\"text-align: right;\">\n",
       "      <th></th>\n",
       "      <th>Published</th>\n",
       "      <th>Title</th>\n",
       "      <th>Body</th>\n",
       "      <th>Keyword</th>\n",
       "      <th>Source</th>\n",
       "    </tr>\n",
       "  </thead>\n",
       "  <tbody>\n",
       "    <tr>\n",
       "      <th>0</th>\n",
       "      <td>2018-04-03T13:05:17Z</td>\n",
       "      <td>Tesla Ends 1Q Making 2,020 Model 3 Sedans per ...</td>\n",
       "      <td>Tesla 1Q deliveries totaled 29,980 vehicles, B...</td>\n",
       "      <td>tesla</td>\n",
       "      <td>Bloomberg</td>\n",
       "    </tr>\n",
       "    <tr>\n",
       "      <th>1</th>\n",
       "      <td>2018-07-24T07:48:09Z</td>\n",
       "      <td>Tesla Wants Its Money Back</td>\n",
       "      <td>Elon Musk is asking for donations to save Tesl...</td>\n",
       "      <td>tesla</td>\n",
       "      <td>The Wall Street Journal</td>\n",
       "    </tr>\n",
       "    <tr>\n",
       "      <th>2</th>\n",
       "      <td>2018-07-01T22:13:00Z</td>\n",
       "      <td>What Tesla can do to keep the bears at bay dur...</td>\n",
       "      <td>Buckle up, because Tesla could be in for a bum...</td>\n",
       "      <td>tesla</td>\n",
       "      <td>CNBC</td>\n",
       "    </tr>\n",
       "    <tr>\n",
       "      <th>3</th>\n",
       "      <td>2018-05-09T15:00:00Z</td>\n",
       "      <td>Two Florida teenagers killed in Tesla crash</td>\n",
       "      <td>Tesla said it is cooperating with authorities ...</td>\n",
       "      <td>tesla</td>\n",
       "      <td>CNBC</td>\n",
       "    </tr>\n",
       "    <tr>\n",
       "      <th>4</th>\n",
       "      <td>2018-05-10T19:00:00Z</td>\n",
       "      <td>NHTSA joins NTSB in looking into fatal Tesla c...</td>\n",
       "      <td>Tesla said it is cooperating with authorities ...</td>\n",
       "      <td>tesla</td>\n",
       "      <td>CNBC</td>\n",
       "    </tr>\n",
       "  </tbody>\n",
       "</table>\n",
       "</div>"
      ],
      "text/plain": [
       "              Published                                              Title  \\\n",
       "0  2018-04-03T13:05:17Z  Tesla Ends 1Q Making 2,020 Model 3 Sedans per ...   \n",
       "1  2018-07-24T07:48:09Z                         Tesla Wants Its Money Back   \n",
       "2  2018-07-01T22:13:00Z  What Tesla can do to keep the bears at bay dur...   \n",
       "3  2018-05-09T15:00:00Z        Two Florida teenagers killed in Tesla crash   \n",
       "4  2018-05-10T19:00:00Z  NHTSA joins NTSB in looking into fatal Tesla c...   \n",
       "\n",
       "                                                Body Keyword  \\\n",
       "0  Tesla 1Q deliveries totaled 29,980 vehicles, B...   tesla   \n",
       "1  Elon Musk is asking for donations to save Tesl...   tesla   \n",
       "2  Buckle up, because Tesla could be in for a bum...   tesla   \n",
       "3  Tesla said it is cooperating with authorities ...   tesla   \n",
       "4  Tesla said it is cooperating with authorities ...   tesla   \n",
       "\n",
       "                    Source  \n",
       "0                Bloomberg  \n",
       "1  The Wall Street Journal  \n",
       "2                     CNBC  \n",
       "3                     CNBC  \n",
       "4                     CNBC  "
      ]
     },
     "execution_count": 115,
     "metadata": {},
     "output_type": "execute_result"
    }
   ],
   "source": [
    "df_news = pd.read_csv('news_dataset.csv', index_col=0, encoding=\"ISO-8859-1\")\n",
    "df_news.head()"
   ]
  },
  {
   "cell_type": "markdown",
   "metadata": {},
   "source": [
    "The news is now in the form of a dataframe.  Further processing will be needed before it can be fed into our agent.  But before we do that, let's get the daily return first so we will all the raw data necessary for this exercise"
   ]
  },
  {
   "cell_type": "code",
   "execution_count": 109,
   "metadata": {},
   "outputs": [],
   "source": [
    "# get Tesla's prices\n",
    "dates = pd.date_range(start_date, end_date)\n",
    "file = 'TSLA.csv'\n",
    "df_stock = sut.get_data(file, dates)"
   ]
  },
  {
   "cell_type": "code",
   "execution_count": 110,
   "metadata": {},
   "outputs": [],
   "source": [
    "# calculate return \n",
    "df_stock['Return'] = df_stock['Adj Close'].shift(-1)/df_stock['Adj Close'].values-1.0\n",
    "df_stock.drop(df_stock.index[-1], inplace=True)"
   ]
  },
  {
   "cell_type": "code",
   "execution_count": 112,
   "metadata": {},
   "outputs": [
    {
     "data": {
      "text/html": [
       "<div>\n",
       "<style>\n",
       "    .dataframe thead tr:only-child th {\n",
       "        text-align: right;\n",
       "    }\n",
       "\n",
       "    .dataframe thead th {\n",
       "        text-align: left;\n",
       "    }\n",
       "\n",
       "    .dataframe tbody tr th {\n",
       "        vertical-align: top;\n",
       "    }\n",
       "</style>\n",
       "<table border=\"1\" class=\"dataframe\">\n",
       "  <thead>\n",
       "    <tr style=\"text-align: right;\">\n",
       "      <th></th>\n",
       "      <th>Adj Close</th>\n",
       "      <th>Return</th>\n",
       "    </tr>\n",
       "  </thead>\n",
       "  <tbody>\n",
       "    <tr>\n",
       "      <th>2018-01-02</th>\n",
       "      <td>320.529999</td>\n",
       "      <td>-0.010233</td>\n",
       "    </tr>\n",
       "    <tr>\n",
       "      <th>2018-01-03</th>\n",
       "      <td>317.250000</td>\n",
       "      <td>-0.008290</td>\n",
       "    </tr>\n",
       "    <tr>\n",
       "      <th>2018-01-04</th>\n",
       "      <td>314.619995</td>\n",
       "      <td>0.006230</td>\n",
       "    </tr>\n",
       "    <tr>\n",
       "      <th>2018-01-05</th>\n",
       "      <td>316.579987</td>\n",
       "      <td>0.062638</td>\n",
       "    </tr>\n",
       "    <tr>\n",
       "      <th>2018-01-08</th>\n",
       "      <td>336.410004</td>\n",
       "      <td>-0.008085</td>\n",
       "    </tr>\n",
       "  </tbody>\n",
       "</table>\n",
       "</div>"
      ],
      "text/plain": [
       "             Adj Close    Return\n",
       "2018-01-02  320.529999 -0.010233\n",
       "2018-01-03  317.250000 -0.008290\n",
       "2018-01-04  314.619995  0.006230\n",
       "2018-01-05  316.579987  0.062638\n",
       "2018-01-08  336.410004 -0.008085"
      ]
     },
     "execution_count": 112,
     "metadata": {},
     "output_type": "execute_result"
    }
   ],
   "source": [
    "df_stock.head()"
   ]
  },
  {
   "cell_type": "markdown",
   "metadata": {},
   "source": [
    "Now that we have both the news and the daily return, it's time to define the framing of the problem."
   ]
  },
  {
   "cell_type": "markdown",
   "metadata": {},
   "source": [
    "### Framing the Problem\n",
    "In the real world, speed plays a huge factor in the success of a trading firm.  Ideally bots are used to monitor news channels real-time so they can quickly grab news releases and feed them into the trading system pipeline.  This simply cannot be achieved reliably using  in this exercises, so we are going to make some assumptions and simplifications about the stock market.  \n"
   ]
  },
  {
   "cell_type": "code",
   "execution_count": 7,
   "metadata": {
    "collapsed": true
   },
   "outputs": [],
   "source": [
    "# map published time to close date.  see figure.1\n",
    "def map_to_close_date(published_date):\n",
    "    dt = parser.parse(published_date[:-1]) #-1 to ignore the Z, which is GMT.\n",
    "    dt = dt - timedelta(hours=20) #shift back by 20 hrs.\n",
    "    return pd.Timestamp(year=dt.year, month=dt.month, day=dt.day)"
   ]
  },
  {
   "cell_type": "code",
   "execution_count": 8,
   "metadata": {
    "collapsed": true
   },
   "outputs": [],
   "source": [
    "# map news to close date\n",
    "df_news['Published'] = df_news['Published'].apply(map_to_close_date)"
   ]
  },
  {
   "cell_type": "code",
   "execution_count": 9,
   "metadata": {
    "collapsed": true
   },
   "outputs": [],
   "source": [
    "# combine title and body into single text\n",
    "df_news['Text'] = df_news['Title'] + ' ' + df_news['Body']"
   ]
  },
  {
   "cell_type": "markdown",
   "metadata": {},
   "source": []
  },
  {
   "cell_type": "code",
   "execution_count": 10,
   "metadata": {
    "collapsed": true
   },
   "outputs": [],
   "source": [
    "# just keep published, and the combined text\n",
    "df_news = df_news[['Published','Text']]"
   ]
  },
  {
   "cell_type": "code",
   "execution_count": 11,
   "metadata": {},
   "outputs": [
    {
     "data": {
      "text/html": [
       "<div>\n",
       "<style>\n",
       "    .dataframe thead tr:only-child th {\n",
       "        text-align: right;\n",
       "    }\n",
       "\n",
       "    .dataframe thead th {\n",
       "        text-align: left;\n",
       "    }\n",
       "\n",
       "    .dataframe tbody tr th {\n",
       "        vertical-align: top;\n",
       "    }\n",
       "</style>\n",
       "<table border=\"1\" class=\"dataframe\">\n",
       "  <thead>\n",
       "    <tr style=\"text-align: right;\">\n",
       "      <th></th>\n",
       "      <th>Published</th>\n",
       "      <th>Text</th>\n",
       "      <th>Adj Close</th>\n",
       "      <th>Return</th>\n",
       "    </tr>\n",
       "  </thead>\n",
       "  <tbody>\n",
       "    <tr>\n",
       "      <th>1407</th>\n",
       "      <td>2018-01-02</td>\n",
       "      <td>Stock Fund That Beats 95% of Peers Ignores CEO...</td>\n",
       "      <td>320.529999</td>\n",
       "      <td>-0.010233</td>\n",
       "    </tr>\n",
       "    <tr>\n",
       "      <th>1733</th>\n",
       "      <td>2018-01-02</td>\n",
       "      <td>Five Things You Need to Know to Start Your Day...</td>\n",
       "      <td>320.529999</td>\n",
       "      <td>-0.010233</td>\n",
       "    </tr>\n",
       "    <tr>\n",
       "      <th>1718</th>\n",
       "      <td>2018-01-02</td>\n",
       "      <td>Car Sales to Top 90 Million Globally for First...</td>\n",
       "      <td>320.529999</td>\n",
       "      <td>-0.010233</td>\n",
       "    </tr>\n",
       "    <tr>\n",
       "      <th>409</th>\n",
       "      <td>2018-01-02</td>\n",
       "      <td>With one simple tweet, Elon Musk shows a maste...</td>\n",
       "      <td>320.529999</td>\n",
       "      <td>-0.010233</td>\n",
       "    </tr>\n",
       "    <tr>\n",
       "      <th>1398</th>\n",
       "      <td>2018-01-02</td>\n",
       "      <td>Electric Car Drivers Are Too Smart to Own Elec...</td>\n",
       "      <td>320.529999</td>\n",
       "      <td>-0.010233</td>\n",
       "    </tr>\n",
       "  </tbody>\n",
       "</table>\n",
       "</div>"
      ],
      "text/plain": [
       "      Published                                               Text  \\\n",
       "1407 2018-01-02  Stock Fund That Beats 95% of Peers Ignores CEO...   \n",
       "1733 2018-01-02  Five Things You Need to Know to Start Your Day...   \n",
       "1718 2018-01-02  Car Sales to Top 90 Million Globally for First...   \n",
       "409  2018-01-02  With one simple tweet, Elon Musk shows a maste...   \n",
       "1398 2018-01-02  Electric Car Drivers Are Too Smart to Own Elec...   \n",
       "\n",
       "       Adj Close    Return  \n",
       "1407  320.529999 -0.010233  \n",
       "1733  320.529999 -0.010233  \n",
       "1718  320.529999 -0.010233  \n",
       "409   320.529999 -0.010233  \n",
       "1398  320.529999 -0.010233  "
      ]
     },
     "execution_count": 11,
     "metadata": {},
     "output_type": "execute_result"
    }
   ],
   "source": [
    "# merge news and stock\n",
    "df_stock['Published'] = df_stock.index\n",
    "df_merged = pd.merge(df_news, df_stock, how='left', on='Published')\n",
    "df_merged = df_merged.dropna()\n",
    "df_merged = df_merged.sort_values(by='Published')\n",
    "df_merged.head()"
   ]
  },
  {
   "cell_type": "code",
   "execution_count": 12,
   "metadata": {
    "collapsed": true
   },
   "outputs": [],
   "source": [
    "def tokenize_news(text):\n",
    "    if(type(text)==float):\n",
    "        return []\n",
    "    lmtzr = WordNetLemmatizer()\n",
    "    stmr = PorterStemmer()\n",
    "    translator = str.maketrans('', '', string.punctuation)\n",
    "    text = (text.translate(translator))\n",
    "    text = \"\".join(c for c in text if ord(c)<128) #strip no n ascii characters\n",
    "    tokens = word_tokenize(text)\n",
    "    t = []\n",
    "    minlen =  4\n",
    "    maxlen = 20 \n",
    "    for token in tokens:\n",
    "        if len(token) < minlen or len(token) > maxlen or token.isnumeric() or token in stopwords.words('english'):\n",
    "            pass\n",
    "        else:\n",
    "            token = lmtzr.lemmatize(token)\n",
    "            token = stmr.stem(token)\n",
    "            t.append(token)\n",
    "    return t"
   ]
  },
  {
   "cell_type": "code",
   "execution_count": 13,
   "metadata": {},
   "outputs": [],
   "source": [
    "df_merged['Text'] = df_merged['Text'].apply(tokenize_news)"
   ]
  },
  {
   "cell_type": "code",
   "execution_count": 14,
   "metadata": {},
   "outputs": [
    {
     "data": {
      "text/html": [
       "<div>\n",
       "<style>\n",
       "    .dataframe thead tr:only-child th {\n",
       "        text-align: right;\n",
       "    }\n",
       "\n",
       "    .dataframe thead th {\n",
       "        text-align: left;\n",
       "    }\n",
       "\n",
       "    .dataframe tbody tr th {\n",
       "        vertical-align: top;\n",
       "    }\n",
       "</style>\n",
       "<table border=\"1\" class=\"dataframe\">\n",
       "  <thead>\n",
       "    <tr style=\"text-align: right;\">\n",
       "      <th></th>\n",
       "      <th>Published</th>\n",
       "      <th>Text</th>\n",
       "      <th>Adj Close</th>\n",
       "      <th>Return</th>\n",
       "    </tr>\n",
       "  </thead>\n",
       "  <tbody>\n",
       "    <tr>\n",
       "      <th>1407</th>\n",
       "      <td>2018-01-02</td>\n",
       "      <td>[stock, fund, that, beat, peer, ignor, talk, r...</td>\n",
       "      <td>320.529999</td>\n",
       "      <td>-0.010233</td>\n",
       "    </tr>\n",
       "    <tr>\n",
       "      <th>1733</th>\n",
       "      <td>2018-01-02</td>\n",
       "      <td>[five, thing, need, know, start, your, caught,...</td>\n",
       "      <td>320.529999</td>\n",
       "      <td>-0.010233</td>\n",
       "    </tr>\n",
       "    <tr>\n",
       "      <th>1718</th>\n",
       "      <td>2018-01-02</td>\n",
       "      <td>[sale, million, global, first, time, global, s...</td>\n",
       "      <td>320.529999</td>\n",
       "      <td>-0.010233</td>\n",
       "    </tr>\n",
       "    <tr>\n",
       "      <th>409</th>\n",
       "      <td>2018-01-02</td>\n",
       "      <td>[with, simpl, tweet, elon, musk, show, master,...</td>\n",
       "      <td>320.529999</td>\n",
       "      <td>-0.010233</td>\n",
       "    </tr>\n",
       "    <tr>\n",
       "      <th>1398</th>\n",
       "      <td>2018-01-02</td>\n",
       "      <td>[electr, driver, smart, electr, car, almost, p...</td>\n",
       "      <td>320.529999</td>\n",
       "      <td>-0.010233</td>\n",
       "    </tr>\n",
       "  </tbody>\n",
       "</table>\n",
       "</div>"
      ],
      "text/plain": [
       "      Published                                               Text  \\\n",
       "1407 2018-01-02  [stock, fund, that, beat, peer, ignor, talk, r...   \n",
       "1733 2018-01-02  [five, thing, need, know, start, your, caught,...   \n",
       "1718 2018-01-02  [sale, million, global, first, time, global, s...   \n",
       "409  2018-01-02  [with, simpl, tweet, elon, musk, show, master,...   \n",
       "1398 2018-01-02  [electr, driver, smart, electr, car, almost, p...   \n",
       "\n",
       "       Adj Close    Return  \n",
       "1407  320.529999 -0.010233  \n",
       "1733  320.529999 -0.010233  \n",
       "1718  320.529999 -0.010233  \n",
       "409   320.529999 -0.010233  \n",
       "1398  320.529999 -0.010233  "
      ]
     },
     "execution_count": 14,
     "metadata": {},
     "output_type": "execute_result"
    }
   ],
   "source": [
    "df_merged.head()"
   ]
  },
  {
   "cell_type": "code",
   "execution_count": 16,
   "metadata": {
    "collapsed": true
   },
   "outputs": [],
   "source": [
    "#construct vocabulary and frequency.  frequency is not really needed, just nice to have for understanding the concept.\n",
    "vocab = {}\n",
    "frequency = {}\n",
    "ignore = ['bloomberg', 'journal']\n",
    "index = 0\n",
    "for title in df_merged['Text']:\n",
    "    for word in title:\n",
    "        if word in ignore:\n",
    "            continue\n",
    "        if word not in vocab:\n",
    "            \n",
    "            vocab[word] = index\n",
    "            index += 1\n",
    "            frequency[word] = 1\n",
    "        else:\n",
    "            frequency[word] += 1"
   ]
  },
  {
   "cell_type": "code",
   "execution_count": 17,
   "metadata": {},
   "outputs": [
    {
     "name": "stdout",
     "output_type": "stream",
     "text": [
      "('tesla', 1094)\n",
      "('musk', 458)\n",
      "('elon', 364)\n",
      "('compani', 254)\n",
      "('stock', 248)\n",
      "('model', 240)\n",
      "('say', 180)\n",
      "('china', 160)\n",
      "('share', 159)\n",
      "('electr', 159)\n"
     ]
    }
   ],
   "source": [
    "#visualize words frequency\n",
    "for i, freq in enumerate(sorted(frequency.items(), key=lambda x:x[1], reverse=True)):\n",
    "    if i == 10:\n",
    "        break\n",
    "    print(freq)"
   ]
  },
  {
   "cell_type": "code",
   "execution_count": 18,
   "metadata": {},
   "outputs": [],
   "source": [
    "vocab_len = len(vocab)"
   ]
  },
  {
   "cell_type": "code",
   "execution_count": 89,
   "metadata": {},
   "outputs": [
    {
     "data": {
      "text/plain": [
       "1741   2018-05-01\n",
       "375    2018-05-01\n",
       "1601   2018-05-01\n",
       "1001   2018-05-01\n",
       "163    2018-05-01\n",
       "1198   2018-05-01\n",
       "690    2018-05-01\n",
       "389    2018-05-01\n",
       "1209   2018-05-01\n",
       "387    2018-05-01\n",
       "1172   2018-05-01\n",
       "329    2018-05-01\n",
       "420    2018-05-01\n",
       "1418   2018-05-01\n",
       "124    2018-05-01\n",
       "Name: Published, dtype: datetime64[ns]"
      ]
     },
     "execution_count": 89,
     "metadata": {},
     "output_type": "execute_result"
    }
   ],
   "source": [
    "df_merged['Published'][df_merged['Published'] == pd.datetime(2018,5,1)]"
   ]
  },
  {
   "cell_type": "code",
   "execution_count": 90,
   "metadata": {
    "collapsed": true
   },
   "outputs": [],
   "source": [
    "in_sd = df_merged['Published'].iloc[0]\n",
    "in_ed = pd.datetime(2018,4,30)\n",
    "out_sd = pd.datetime(2018,5,1)\n",
    "out_ed = df_merged['Published'].iloc[-1]\n",
    "\n",
    "df_training_data = df_merged[np.logical_and(df_merged['Published'] >= in_sd, df_merged['Published'] <= in_ed)]\n",
    "df_testing_data = df_merged[np.logical_and(df_merged['Published'] >= out_sd, df_merged['Published'] <= out_ed)]"
   ]
  },
  {
   "cell_type": "code",
   "execution_count": 91,
   "metadata": {
    "collapsed": true
   },
   "outputs": [],
   "source": [
    "def to_one_hot(text):\n",
    "    #return one hot vector of shape (vocab_len, 1)\n",
    "    array = np.zeros((vocab_len, 1))\n",
    "    for word in text:\n",
    "        if word in vocab:\n",
    "            index = vocab[word]\n",
    "            array[index] = 1\n",
    "    return array"
   ]
  },
  {
   "cell_type": "code",
   "execution_count": 92,
   "metadata": {
    "collapsed": true
   },
   "outputs": [],
   "source": [
    "def get_X(df_text):\n",
    "    X = np.empty((vocab_len,0))\n",
    "    for text in df_text:\n",
    "        array = to_one_hot(text)\n",
    "        X = np.hstack((X,array))\n",
    "    X = X.T\n",
    "    return X"
   ]
  },
  {
   "cell_type": "code",
   "execution_count": 93,
   "metadata": {
    "collapsed": true
   },
   "outputs": [],
   "source": [
    "# here is the exciting part. here we are going to create the training data!\n",
    "train_x = get_X(df_training_data['Text'])\n",
    "test_x = get_X(df_testing_data['Text'])"
   ]
  },
  {
   "cell_type": "code",
   "execution_count": 94,
   "metadata": {
    "collapsed": true
   },
   "outputs": [],
   "source": [
    "# get labels\n",
    "train_y = df_training_data['Return'].values.copy()\n",
    "test_y = df_testing_data['Return'].values.copy()"
   ]
  },
  {
   "cell_type": "code",
   "execution_count": 95,
   "metadata": {},
   "outputs": [],
   "source": [
    "train_y[train_y <= 0] = 0\n",
    "train_y[train_y > 0] = 1\n",
    "\n",
    "test_y[test_y <= 0] = 0\n",
    "test_y[test_y > 0] = 1"
   ]
  },
  {
   "cell_type": "code",
   "execution_count": 96,
   "metadata": {},
   "outputs": [
    {
     "name": "stdout",
     "output_type": "stream",
     "text": [
      "(675, 4528)\n",
      "(675,)\n",
      "(554, 4528)\n",
      "(554,)\n"
     ]
    }
   ],
   "source": [
    "print(train_x.shape)\n",
    "print(train_y.shape)\n",
    "print(test_x.shape)\n",
    "print(test_y.shape)"
   ]
  },
  {
   "cell_type": "code",
   "execution_count": 98,
   "metadata": {},
   "outputs": [
    {
     "data": {
      "text/plain": [
       "<keras.callbacks.History at 0x24786456278>"
      ]
     },
     "execution_count": 98,
     "metadata": {},
     "output_type": "execute_result"
    }
   ],
   "source": [
    "#train the model\n",
    "model = Sequential()\n",
    "model.add(Dense(1, input_dim=train_x.shape[1], activation='relu', kernel_initializer='uniform'))\n",
    "# model.add(Dense(12, activation='relu', kernel_initializer='uniform'))\n",
    "# model.add(Dense(1, activation='sigmoid', kernel_initializer='uniform'))\n",
    "\n",
    "optimizer = optimizers.Adam(lr=0.001, beta_1=0.9, beta_2=0.999, epsilon=None, decay=0.00001, amsgrad=False)\n",
    "model.compile(loss='binary_crossentropy', optimizer=optimizer, metrics=['accuracy'])\n",
    "model.fit(train_x, train_y, epochs=50, batch_size=32, verbose=0)"
   ]
  },
  {
   "cell_type": "code",
   "execution_count": 99,
   "metadata": {},
   "outputs": [
    {
     "name": "stdout",
     "output_type": "stream",
     "text": [
      "stock [0.06316894]\n",
      "fund [0.02996688]\n",
      "that [0.00551409]\n",
      "beat [0.00839819]\n",
      "peer [-0.00527481]\n",
      "ignor [-0.17625849]\n",
      "talk [0.008567]\n",
      "research [0.05196967]\n",
      "read [0.00197813]\n",
      "brokerag [-0.22932746]\n"
     ]
    }
   ],
   "source": [
    "#view weights\n",
    "weights, biases = model.layers[0].get_weights()\n",
    "for i, k in enumerate(vocab.keys()):\n",
    "    if i == 10:\n",
    "        break\n",
    "    print(k, weights[i])"
   ]
  },
  {
   "cell_type": "code",
   "execution_count": 100,
   "metadata": {},
   "outputs": [
    {
     "data": {
      "text/plain": [
       "0.9451851851851852"
      ]
     },
     "execution_count": 100,
     "metadata": {},
     "output_type": "execute_result"
    }
   ],
   "source": [
    "#assess in-sample accuracy\n",
    "predictions = model.predict_classes(train_x)\n",
    "predictions = predictions.reshape((predictions.shape[0],))\n",
    "np.sum(predictions == train_y) / train_y.shape[0]"
   ]
  },
  {
   "cell_type": "code",
   "execution_count": 101,
   "metadata": {},
   "outputs": [
    {
     "data": {
      "text/plain": [
       "0.4981949458483754"
      ]
     },
     "execution_count": 101,
     "metadata": {},
     "output_type": "execute_result"
    }
   ],
   "source": [
    "#assess out-of-sample accuracy\n",
    "predictions = model.predict_classes(test_x)\n",
    "predictions = predictions.reshape((predictions.shape[0],))\n",
    "np.sum(predictions == test_y) / test_y.shape[0]"
   ]
  },
  {
   "cell_type": "code",
   "execution_count": 102,
   "metadata": {
    "collapsed": true
   },
   "outputs": [],
   "source": [
    "#generate trades\n",
    "def generate_trades(df, ticker):\n",
    "    sd = df['Published'].iloc[0]\n",
    "    ed = df['Published'].iloc[-1]\n",
    "    trades = tut.get_prices(ticker, sd, ed)\n",
    "    trades[:] = 0\n",
    "    curr_date = sd\n",
    "    votes = []\n",
    "    for date, text in zip(df['Published'], df['Text']):\n",
    "        if date != curr_date:\n",
    "            trades.loc[curr_date] = mode(votes)[0][0]\n",
    "            votes = []\n",
    "            curr_date = date\n",
    "        text_vector = to_one_hot(text)\n",
    "        prediction = model.predict_classes(text_vector.T)\n",
    "        votes.append(prediction[0][0])\n",
    "    trades = tut.predictions_to_trades(ticker, trades.values, sd, ed, 1, 0)\n",
    "    return trades"
   ]
  },
  {
   "cell_type": "code",
   "execution_count": 103,
   "metadata": {},
   "outputs": [],
   "source": [
    "in_trades = generate_trades(df_training_data, 'TSLA')"
   ]
  },
  {
   "cell_type": "code",
   "execution_count": 104,
   "metadata": {},
   "outputs": [],
   "source": [
    "starting_cash = 100000\n",
    "holding_limit = 1000\n",
    "btr = tut.BackTester(starting_cash, holding_limit)"
   ]
  },
  {
   "cell_type": "code",
   "execution_count": 105,
   "metadata": {},
   "outputs": [
    {
     "data": {
      "image/png": "[encoded data removed]",
      "text/plain": [
       "<Figure size 576x432 with 2 Axes>"
      ]
     },
     "metadata": {},
     "output_type": "display_data"
    }
   ],
   "source": [
    "btr.backtest(in_trades, 'Sentiment Trader for TSLA', 'Logistics Regression NLP')"
   ]
  },
  {
   "cell_type": "code",
   "execution_count": 106,
   "metadata": {},
   "outputs": [
    {
     "data": {
      "image/png": "[encoded data removed]",
      "text/plain": [
       "<Figure size 576x432 with 2 Axes>"
      ]
     },
     "metadata": {},
     "output_type": "display_data"
    }
   ],
   "source": [
    "out_trades = generate_trades(df_testing_data, 'TSLA')\n",
    "btr.backtest(out_trades, 'Sentiment Trader for TSLA', 'Logistics Regression NLP')"
   ]
  }
 ],
 "metadata": {
  "kernelspec": {
   "display_name": "Python 3",
   "language": "python",
   "name": "python3"
  },
  "language_info": {
   "codemirror_mode": {
    "name": "ipython",
    "version": 3
   },
   "file_extension": ".py",
   "mimetype": "text/x-python",
   "name": "python",
   "nbconvert_exporter": "python",
   "pygments_lexer": "ipython3",
   "version": "3.6.6"
  }
 },
 "nbformat": 4,
 "nbformat_minor": 2
}

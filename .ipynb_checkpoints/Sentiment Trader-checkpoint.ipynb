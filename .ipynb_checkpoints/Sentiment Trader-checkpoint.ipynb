{
 "cells": [
  {
   "cell_type": "code",
   "execution_count": 33,
   "metadata": {
    "collapsed": true
   },
   "outputs": [],
   "source": [
    "#author: James Chan © 2018\n",
    "import requests\n",
    "import numpy as np\n",
    "import pandas as pd\n",
    "import matplotlib.pyplot as plt\n",
    "import seaborn as sb\n",
    "import st_utils as ut\n",
    "import datetime as dt\n",
    "%matplotlib inline"
   ]
  },
  {
   "cell_type": "code",
   "execution_count": 34,
   "metadata": {},
   "outputs": [],
   "source": [
    "#We are concerned about tech sentiment, QQQ will be our stock (ETF) of interest.\n",
    "sd = dt.datetime(2009,1,1)\n",
    "ed = dt.datetime(2010,1,1)\n",
    "dates = pd.date_range(sd, ed)\n",
    "df = ut.get_data('QQQ.csv', dates) \n"
   ]
  },
  {
   "cell_type": "code",
   "execution_count": 35,
   "metadata": {},
   "outputs": [],
   "source": [
    "'''\n",
    "Assumptions:\n",
    "1. We assume we enter buy order at market close, hence using adjusted close. \n",
    "2. The news \n",
    "'''\n",
    "df = df.dropna()\n",
    "df['Daily Return'] = df['Adj Close'].pct_change()"
   ]
  },
  {
   "cell_type": "code",
   "execution_count": 36,
   "metadata": {
    "collapsed": true
   },
   "outputs": [],
   "source": [
    "#using FAANG not only because it's a cool buzzword, but they are also the tech market drivers\n",
    "companies = ['facebook','apple','amazon','netflix','google']\n",
    "companies = ['amazon']\n",
    "start_date = '2018-07-25'\n",
    "end_date = '2018-07-28'\n",
    "news_source = 'wsj.com'\n",
    "apikey = '23e7e5c41b6443f1bb556ec312275aff'\n",
    "query_urls = []\n",
    "for company in companies:\n",
    "    url = 'https://newsapi.org/v2/everything?q={}&from={}&to={}&domains={}&apiKey={}'\\\n",
    "            .format(company, start_date, end_date, news_source, apikey)\n",
    "    query_urls.append(url)\n",
    "\n",
    "#data provided by https://newsapi.org <----these guys are awesome :-)!\n",
    "for url in query_urls:\n",
    "    response = requests.get(url)\n",
    "    news = response.json()"
   ]
  },
  {
   "cell_type": "code",
   "execution_count": 37,
   "metadata": {},
   "outputs": [
    {
     "name": "stdout",
     "output_type": "stream",
     "text": [
      "Amazon Continues Profit Streak\n",
      "Amazon continued its streak of profitability, easily topping $1 billion for the third straight quarter, as the company extends its dominance in online retailing and draws gains from its flourishing cloud-computing business.\n",
      "\n",
      "2018-07-26T20:10:06Z\n",
      "How Sellers Trick Amazon To Boost Sales\n",
      "The digital giant battles click farms, reviewers-for-hire and other scams as merchants try to outsmart its product-ranking system.\n",
      "\n",
      "2018-07-28T04:30:10Z\n",
      "Why Do the Biggest Companies Keep Getting Bigger? It's How They Spend on Tech\n",
      "The secret of success for Amazon, Google and Microsoft is how much they invest in their own technology.\n",
      "\n",
      "2018-07-26T13:22:36Z\n",
      "AmazonEarnings: What to Watch\n",
      "Analysts are high on Amazon—so high, they’re largely expecting the company to surprise with an even better forecast for the year.\n",
      "\n",
      "2018-07-26T10:00:05Z\n",
      "WSJ City: Amazon Profit Soars to Record, Trump’s Tactical Shift on Trade\n",
      "MUST READS FROM WSJ CITY Amazon’s quarterly profit topped $2 billion for the first time, powered by the company’s newer services businesses that are ushering the online retail giant into an era of swelling profitability. President Trump’s truce with the EU si…\n",
      "\n",
      "2018-07-27T07:08:10Z\n",
      "Stocks to Watch: Amazon, Intel, Twitter, Starbucks, Chipotle, Expedia, Exxon Mobil, Chesapeake, Merck\n",
      "Among the companies with shares expected to trade actively in Friday's session are Amazon.com, Intel, Twitter, Starbucks, Chipotle and Expedia.\n",
      "\n",
      "2018-07-27T13:24:14Z\n",
      "Walmart Explores Its Own Streaming Service\n",
      "Walmart is exploring a subscription video streaming service that would seek to challenge Netflix and Amazon.com by offering programming that targets Middle America.\n",
      "\n",
      "2018-07-28T11:00:02Z\n",
      "Chris O'Dowd Reveals What's on His iPhone\n",
      "The Irish actor, who stars in the film ‘Juliet, Naked,’ out this month, shares what’s on his phone.\n",
      "\n",
      "2018-07-25T14:58:01Z\n",
      "'Puzzle' Review: Less Than the Sum of Its Pieces\n",
      "An unhappy wife discovers she’s a jigsaw prodigy in Marc Turtletaub’s film.\n",
      "\n",
      "2018-07-25T19:21:12Z\n",
      "Why Wi-Fi Isn't Free on Airlines\n",
      "Gogo and other in-flight Wi-Fi providers, are trying try to find the right price to attract users and cover the steep installation and operating costs.\n",
      "\n",
      "2018-07-25T12:28:17Z\n",
      "At the Expense of US Tech, a European Star Is Born - Wall Street Journal\n",
      "Wall Street Journal At the Expense of US Tech, a European Star Is Born Wall Street Journal American tech firms have been handy punching bags for Ms. Vestager, there is no question. Even the Economist magazine, which likes her crusade, acknowledges she is poli…\n",
      "\n",
      "2018-07-27T22:18:57Z\n",
      "There's No Productivity Miracle Hiding in the Data\n",
      "Why hasn’t the technology revolution lifted the U.S.’s miserable productivity growth rate? Popular as the stealth productivity boom is, it is a myth.\n",
      "\n",
      "2018-07-25T11:13:40Z\n",
      "A Postman's Final Salute: A Celebration of America and New York City\n",
      "A New York postal worker’s love affair with America blossomed delivering the mail on the Upper East Side. After nearly 20 years on the job, he is retiring with a first-class letter of gratitude to his customers.\n",
      "\n",
      "2018-07-26T15:21:47Z\n",
      "Investors Step Back From Social-Media Highfliers\n",
      "Shares of Twitter and Facebook endured a surprise rout this week, as investors were rattled by signs that users are souring on the social-media stalwarts.\n",
      "\n",
      "2018-07-27T23:26:05Z\n"
     ]
    }
   ],
   "source": [
    "# pandas = \n",
    "#data preprocess:\n",
    "#1. use description only, remove entries that don't actually have the company name mentioned in the description\n",
    "#2. need to offset time by -4 hours to get ET time.  e.g., 1:00pm ET (summer) is shown as 17:00.\n",
    "#3. bin the time to market open and market close per day.\n",
    "for article in news['articles']:\n",
    "    print(article['title'])\n",
    "    print(article['description'])\n",
    "    print(article['publishedAt'])\n",
    "    print()\n",
    "    "
   ]
  },
  {
   "cell_type": "code",
   "execution_count": 39,
   "metadata": {},
   "outputs": [],
   "source": [
    "df = df.dropna()\n"
   ]
  },
  {
   "cell_type": "code",
   "execution_count": null,
   "metadata": {
    "collapsed": true
   },
   "outputs": [],
   "source": []
  }
 ],
 "metadata": {
  "kernelspec": {
   "display_name": "Python 3",
   "language": "python",
   "name": "python3"
  },
  "language_info": {
   "codemirror_mode": {
    "name": "ipython",
    "version": 3
   },
   "file_extension": ".py",
   "mimetype": "text/x-python",
   "name": "python",
   "nbconvert_exporter": "python",
   "pygments_lexer": "ipython3",
   "version": "3.6.6"
  }
 },
 "nbformat": 4,
 "nbformat_minor": 2
}

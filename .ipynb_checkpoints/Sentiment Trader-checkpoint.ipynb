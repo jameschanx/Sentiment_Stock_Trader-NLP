{
 "cells": [
  {
   "cell_type": "code",
   "execution_count": 23,
   "metadata": {
    "collapsed": true
   },
   "outputs": [],
   "source": [
    "#author: James Chan © 2018\n",
    "import requests\n",
    "import numpy as np\n",
    "import pandas as pd\n",
    "import matplotlib.pyplot as plt\n",
    "import seaborn as sb\n",
    "import st_utils as ut\n",
    "import datetime as dt\n",
    "import nltk\n",
    "%matplotlib inline"
   ]
  },
  {
   "cell_type": "code",
   "execution_count": 38,
   "metadata": {},
   "outputs": [],
   "source": [
    "#We are concerned about tech sentiment, QQQ will be our stock (ETF) of interest.\n",
    "start_date = '2016-01-01'\n",
    "end_date = '2018-12-31'\n",
    "dates = pd.date_range(start_date, end_date)\n",
    "df = ut.get_data('QQQ.csv', dates) \n"
   ]
  },
  {
   "cell_type": "code",
   "execution_count": 39,
   "metadata": {},
   "outputs": [],
   "source": [
    "'''\n",
    "Assumptions:\n",
    "1. We assume we enter buy order at market close, hence using adjusted close. \n",
    "2. The news \n",
    "'''\n",
    "df = df.dropna()\n",
    "df['Daily Return'] = df['Adj Close'].pct_change()"
   ]
  },
  {
   "cell_type": "code",
   "execution_count": null,
   "metadata": {
    "collapsed": true
   },
   "outputs": [],
   "source": [
    "def url_request(company, start_date, end_date, news_source):\n",
    "    apikey = '23e7e5c41b6443f1bb556ec312275aff'\n",
    "    \n",
    "    #determine the total number of results in the request parameter\n",
    "    page = 1\n",
    "    url = 'https://newsapi.org/v2/everything?q={}&from={}&to={}&domains={}&pageSize=1&page={}apiKey={}'\\\n",
    "            .format(company, start_date, end_date, news_source, page, apikey)\n",
    "    response = requests.get(url)\n",
    "    news = response.json() \n",
    "    total_result = news['totalResults']\n",
    "    \n",
    "    '''\n",
    "    once we have determined the total of number of articles, we loop through all the pages to get everything\n",
    "    since each page has a max allowable articles displayed\n",
    "    '''\n",
    "    \n",
    "    page_size = 100 # 100 is max number of page displayed per page per API\n",
    "    for page in range(1, total_result/page_size + 2)\n",
    "        url = 'https://newsapi.org/v2/everything?q={}&from={}&to={}&domains={}&pageSize=1&page={}apiKey={}'\\\n",
    "                .format(company, start_date, end_date, news_source, page, apikey)\n",
    "        response = requests.get(url)\n",
    "        news = response.json()         "
   ]
  },
  {
   "cell_type": "code",
   "execution_count": 40,
   "metadata": {
    "collapsed": true
   },
   "outputs": [],
   "source": [
    "#using FAANG not only because it's a cool buzzword, but they are also the tech market drivers\n",
    "companies = ['twitter','netflix','tesla']\n",
    "companies = ['tesla']\n",
    "news_source = 'wsj.com, bloomberg.com, cnbc.com'\n",
    "query_urls = []\n",
    "query_request()\n",
    "\n",
    "\n",
    "for company in companies:\n",
    "    url = 'https://newsapi.org/v2/everything?q={}&from={}&to={}&domains={}&pageSize=100&page={}apiKey={}'\\\n",
    "            .format(company, start_date, end_date, news_source, apikey)\n",
    "    query_urls.append(url)\n",
    "\n",
    "#data provided by https://newsapi.org <----these guys are awesome :-)!\n",
    "for url in query_urls:\n",
    "    response = requests.get(url)\n",
    "    news = response.json()"
   ]
  },
  {
   "cell_type": "code",
   "execution_count": 41,
   "metadata": {},
   "outputs": [
    {
     "name": "stdout",
     "output_type": "stream",
     "text": [
      "20\n"
     ]
    }
   ],
   "source": [
    "# pandas = \n",
    "#data preprocess:\n",
    "#1. use description only, remove entries that don't actually have the company name mentioned in the description\n",
    "#2. need to offset time by -4 hours to get ET time.  e.g., 1:00pm ET (summer) is shown as 17:00.\n",
    "#3. bin the time to market open and market close per day.\n",
    "ctr = 0\n",
    "\n",
    "print(len(news['articles']))\n",
    "# for article in news['articles']:\n",
    "#     print(article)\n",
    "# #     print(article['description'])\n",
    "# #     print(article['publishedAt'])\n",
    "# #     print(article['source'])\n",
    "#     print()\n",
    "#     ctr += 1\n",
    "# print(ctr)"
   ]
  },
  {
   "cell_type": "code",
   "execution_count": 39,
   "metadata": {},
   "outputs": [],
   "source": [
    "df = df.dropna()\n"
   ]
  },
  {
   "cell_type": "code",
   "execution_count": null,
   "metadata": {
    "collapsed": true
   },
   "outputs": [],
   "source": []
  }
 ],
 "metadata": {
  "kernelspec": {
   "display_name": "Python 3",
   "language": "python",
   "name": "python3"
  },
  "language_info": {
   "codemirror_mode": {
    "name": "ipython",
    "version": 3
   },
   "file_extension": ".py",
   "mimetype": "text/x-python",
   "name": "python",
   "nbconvert_exporter": "python",
   "pygments_lexer": "ipython3",
   "version": "3.6.6"
  }
 },
 "nbformat": 4,
 "nbformat_minor": 2
}

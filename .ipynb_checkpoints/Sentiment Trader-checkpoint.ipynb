{
 "cells": [
  {
   "cell_type": "code",
   "execution_count": 1,
   "metadata": {
    "collapsed": true
   },
   "outputs": [],
   "source": [
    "#author: James Chan © 2018\n",
    "import requests\n",
    "import numpy as np\n",
    "import pandas as pd\n",
    "import matplotlib.pyplot as plt\n",
    "import seaborn as sb\n",
    "import st_utils as ut\n",
    "import datetime as dt\n",
    "import nltk\n",
    "from dateutil import parser\n",
    "from datetime import timedelta, date\n",
    "%matplotlib inline"
   ]
  },
  {
   "cell_type": "code",
   "execution_count": 4,
   "metadata": {
    "collapsed": true
   },
   "outputs": [],
   "source": [
    "# Initialize date range\n",
    "start_date = '2018-01-01'\n",
    "end_date = '2018-8-31'"
   ]
  },
  {
   "cell_type": "code",
   "execution_count": 5,
   "metadata": {},
   "outputs": [
    {
     "name": "stdout",
     "output_type": "stream",
     "text": [
      "{'status': 'ok', 'totalResults': 1774, 'articles': []}\n",
      "total number of articles  1774\n",
      "downloading page:  1\n",
      "downloading page:  2\n",
      "downloading page:  3\n",
      "downloading page:  4\n",
      "downloading page:  5\n",
      "downloading page:  6\n",
      "downloading page:  7\n",
      "downloading page:  8\n",
      "downloading page:  9\n",
      "downloading page:  10\n",
      "downloading page:  11\n",
      "downloading page:  12\n",
      "downloading page:  13\n",
      "downloading page:  14\n",
      "downloading page:  15\n",
      "downloading page:  16\n",
      "downloading page:  17\n",
      "downloading page:  18\n"
     ]
    }
   ],
   "source": [
    "# Grab news.  Only need to do this once\n",
    "keywords = ['tesla'] #these three stocks move largely base on news\n",
    "news_source = 'wsj.com, bloomberg.com, cnbc.com'\n",
    "df = ut.get_news(keywords, start_date, end_date, news_source)\n",
    "df.to_csv('news_dataset.csv')"
   ]
  },
  {
   "cell_type": "code",
   "execution_count": 8,
   "metadata": {
    "collapsed": true
   },
   "outputs": [],
   "source": [
    "# Get Tesla's prices\n",
    "dates = pd.date_range(start_date, end_date)\n",
    "file = 'TSLA.csv'\n",
    "df_stock = ut.get_data(file, dates)"
   ]
  },
  {
   "cell_type": "code",
   "execution_count": 13,
   "metadata": {},
   "outputs": [],
   "source": [
    "# Calculate return \n",
    "df_stock['Return'] = df_stock['Adj Close'].pct_change()\n",
    "df_stock.drop(df_stock.index[0], inplace=True)"
   ]
  },
  {
   "cell_type": "code",
   "execution_count": 14,
   "metadata": {},
   "outputs": [],
   "source": [
    "df_news = pd.read_csv('news_dataset.csv', index_col=0, encoding=\"ISO-8859-1\")"
   ]
  },
  {
   "cell_type": "code",
   "execution_count": null,
   "metadata": {},
   "outputs": [],
   "source": [
    "# Clean Dataset\n",
    "# 1. Change date format to pandas datetime\n",
    "# 2. Remove any row with title less than 5 words or body less than 10 words.\n",
    "# 3. Remove any rowo with entries that have more than 3 question marks.\n"
   ]
  },
  {
   "cell_type": "code",
   "execution_count": null,
   "metadata": {},
   "outputs": [],
   "source": [
    "# map published time to close date.  see figure.1\n",
    "def map_to_close_date(published_date):\n",
    "    dt = parser.parse(published_date[:-1]) #-1 to ignore the Z, which is GMT.\n",
    "    dt = dt - timedelta(hours=20) #shift back by 20 hrs.\n",
    "    return pd.Timestamp(year=dt.year, month=dt.month, day=dt.day)"
   ]
  },
  {
   "cell_type": "code",
   "execution_count": null,
   "metadata": {},
   "outputs": [],
   "source": [
    "df_news['Published'] = df_news['Published'].apply(map_to_close_date)"
   ]
  },
  {
   "cell_type": "code",
   "execution_count": null,
   "metadata": {},
   "outputs": [],
   "source": [
    "df_news"
   ]
  },
  {
   "cell_type": "code",
   "execution_count": null,
   "metadata": {},
   "outputs": [],
   "source": [
    "df_stock['Published'] = df_stock.index"
   ]
  },
  {
   "cell_type": "code",
   "execution_count": null,
   "metadata": {},
   "outputs": [],
   "source": [
    "df_merged = pd.merge(df_news, df_stock, how='outer', on='Published')\n",
    "df_merged.sort_value('Published')\n"
   ]
  },
  {
   "cell_type": "code",
   "execution_count": null,
   "metadata": {},
   "outputs": [],
   "source": [
    "df_merged"
   ]
  },
  {
   "cell_type": "code",
   "execution_count": null,
   "metadata": {
    "collapsed": true
   },
   "outputs": [],
   "source": []
  }
 ],
 "metadata": {
  "kernelspec": {
   "display_name": "Python 3",
   "language": "python",
   "name": "python3"
  },
  "language_info": {
   "codemirror_mode": {
    "name": "ipython",
    "version": 3
   },
   "file_extension": ".py",
   "mimetype": "text/x-python",
   "name": "python",
   "nbconvert_exporter": "python",
   "pygments_lexer": "ipython3",
   "version": "3.6.6"
  }
 },
 "nbformat": 4,
 "nbformat_minor": 2
}
